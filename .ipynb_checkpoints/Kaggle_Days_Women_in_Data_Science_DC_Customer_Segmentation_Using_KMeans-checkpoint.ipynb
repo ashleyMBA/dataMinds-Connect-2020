{
 "cells": [
  {
   "cell_type": "markdown",
   "metadata": {},
   "source": [
    "# Kaggle Days: Women in Data Science "
   ]
  },
  {
   "cell_type": "markdown",
   "metadata": {},
   "source": [
    "## Customer Segmentation Using K-Means"
   ]
  },
  {
   "cell_type": "markdown",
   "metadata": {},
   "source": [
    "Customer segmentation is the process of grouping consumers based on meaningful correlations. It is used by businesses to understand their customers in order to improve product lines, princing, customer experience, ad targeting and more.\n",
    "\n",
    "Segmentation benefits both the customer and the business becasue cutomers get more of what they want  and often a more personalized expereince and businesses can increase customer retention, revenues and cutomer satisfaction.\n",
    " \n",
    "Who uses machine learning to understand their customers:\n",
    "\n",
    "Sephora uses online purchases by geographic location to customize in-store offerings.\n",
    "Metlife revistied insurance offerings after conducting reseach on customer segmentation.\n",
    "Rent the Runway uses geographic and previous search and purchase history to stock retail locations and present inventory on their website.\n"
   ]
  },
  {
   "cell_type": "markdown",
   "metadata": {},
   "source": [
    "There are several ways to implement customer segmentation using machine learning:\n",
    "\n",
    "K-Means- Is an effecient and straightforward solution that handles big data well and uses distance from a centroid to determine element's likeness to one another.\n",
    "\n",
    "Hierarchical- Is often used in scenarios when there is a complex decision making process such as a multi-step purchase. It is more useful with smaller datasets and gives clusters a hierarchy resulting in a descision tree structure.\n",
    "\n",
    "DBSCAN- DBSCAN which stand for density-based spatial clustering of applications with noise, can be useful when your data contains alot of noise or outliers. It uses density of elements to determine likeness to one another.\n",
    "\n",
    "In this tutorial we will focus on K-Means.\n"
   ]
  },
  {
   "cell_type": "markdown",
   "metadata": {},
   "source": [
    "For this tutorial I am importing a dataset from UC Irvine's Machine Learning Repository found here: https://archive.ics.uci.edu/ml/datasets/Online+Retail+II\n",
    "\n",
    "All needed files are saved in this repo. But feel free to copy this repo and revise the code to fit any dataset you might be interested in!\n"
   ]
  },
  {
   "cell_type": "code",
   "execution_count": 5,
   "metadata": {},
   "outputs": [
    {
     "data": {
      "text/html": [
       "<div>\n",
       "<style scoped>\n",
       "    .dataframe tbody tr th:only-of-type {\n",
       "        vertical-align: middle;\n",
       "    }\n",
       "\n",
       "    .dataframe tbody tr th {\n",
       "        vertical-align: top;\n",
       "    }\n",
       "\n",
       "    .dataframe thead th {\n",
       "        text-align: right;\n",
       "    }\n",
       "</style>\n",
       "<table border=\"1\" class=\"dataframe\">\n",
       "  <thead>\n",
       "    <tr style=\"text-align: right;\">\n",
       "      <th></th>\n",
       "      <th>Invoice</th>\n",
       "      <th>StockCode</th>\n",
       "      <th>Description</th>\n",
       "      <th>Quantity</th>\n",
       "      <th>InvoiceDate</th>\n",
       "      <th>Price</th>\n",
       "      <th>Customer ID</th>\n",
       "      <th>Country</th>\n",
       "    </tr>\n",
       "  </thead>\n",
       "  <tbody>\n",
       "    <tr>\n",
       "      <td>0</td>\n",
       "      <td>489434</td>\n",
       "      <td>85048</td>\n",
       "      <td>15CM CHRISTMAS GLASS BALL 20 LIGHTS</td>\n",
       "      <td>12</td>\n",
       "      <td>2009-12-01 07:45:00</td>\n",
       "      <td>6.95</td>\n",
       "      <td>13085.0</td>\n",
       "      <td>United Kingdom</td>\n",
       "    </tr>\n",
       "    <tr>\n",
       "      <td>1</td>\n",
       "      <td>489434</td>\n",
       "      <td>79323P</td>\n",
       "      <td>PINK CHERRY LIGHTS</td>\n",
       "      <td>12</td>\n",
       "      <td>2009-12-01 07:45:00</td>\n",
       "      <td>6.75</td>\n",
       "      <td>13085.0</td>\n",
       "      <td>United Kingdom</td>\n",
       "    </tr>\n",
       "    <tr>\n",
       "      <td>2</td>\n",
       "      <td>489434</td>\n",
       "      <td>79323W</td>\n",
       "      <td>WHITE CHERRY LIGHTS</td>\n",
       "      <td>12</td>\n",
       "      <td>2009-12-01 07:45:00</td>\n",
       "      <td>6.75</td>\n",
       "      <td>13085.0</td>\n",
       "      <td>United Kingdom</td>\n",
       "    </tr>\n",
       "    <tr>\n",
       "      <td>3</td>\n",
       "      <td>489434</td>\n",
       "      <td>22041</td>\n",
       "      <td>RECORD FRAME 7\" SINGLE SIZE</td>\n",
       "      <td>48</td>\n",
       "      <td>2009-12-01 07:45:00</td>\n",
       "      <td>2.10</td>\n",
       "      <td>13085.0</td>\n",
       "      <td>United Kingdom</td>\n",
       "    </tr>\n",
       "    <tr>\n",
       "      <td>4</td>\n",
       "      <td>489434</td>\n",
       "      <td>21232</td>\n",
       "      <td>STRAWBERRY CERAMIC TRINKET BOX</td>\n",
       "      <td>24</td>\n",
       "      <td>2009-12-01 07:45:00</td>\n",
       "      <td>1.25</td>\n",
       "      <td>13085.0</td>\n",
       "      <td>United Kingdom</td>\n",
       "    </tr>\n",
       "  </tbody>\n",
       "</table>\n",
       "</div>"
      ],
      "text/plain": [
       "  Invoice StockCode                          Description  Quantity  \\\n",
       "0  489434     85048  15CM CHRISTMAS GLASS BALL 20 LIGHTS        12   \n",
       "1  489434    79323P                   PINK CHERRY LIGHTS        12   \n",
       "2  489434    79323W                  WHITE CHERRY LIGHTS        12   \n",
       "3  489434     22041         RECORD FRAME 7\" SINGLE SIZE         48   \n",
       "4  489434     21232       STRAWBERRY CERAMIC TRINKET BOX        24   \n",
       "\n",
       "          InvoiceDate  Price  Customer ID         Country  \n",
       "0 2009-12-01 07:45:00   6.95      13085.0  United Kingdom  \n",
       "1 2009-12-01 07:45:00   6.75      13085.0  United Kingdom  \n",
       "2 2009-12-01 07:45:00   6.75      13085.0  United Kingdom  \n",
       "3 2009-12-01 07:45:00   2.10      13085.0  United Kingdom  \n",
       "4 2009-12-01 07:45:00   1.25      13085.0  United Kingdom  "
      ]
     },
     "execution_count": 5,
     "metadata": {},
     "output_type": "execute_result"
    }
   ],
   "source": [
    "# import the needed libraries\n",
    "import pandas as pd\n",
    "import matplotlib.pyplot as plt\n",
    "from sklearn.cluster import KMeans\n",
    "\n",
    "# import excel spreadsheet \n",
    "df = pd.read_excel('online_retail_II.xlsx')\n",
    "\n",
    "# print the first 5 rows of the data\n",
    "df.head() "
   ]
  },
  {
   "cell_type": "code",
   "execution_count": 6,
   "metadata": {},
   "outputs": [
    {
     "data": {
      "text/html": [
       "<div>\n",
       "<style scoped>\n",
       "    .dataframe tbody tr th:only-of-type {\n",
       "        vertical-align: middle;\n",
       "    }\n",
       "\n",
       "    .dataframe tbody tr th {\n",
       "        vertical-align: top;\n",
       "    }\n",
       "\n",
       "    .dataframe thead th {\n",
       "        text-align: right;\n",
       "    }\n",
       "</style>\n",
       "<table border=\"1\" class=\"dataframe\">\n",
       "  <thead>\n",
       "    <tr style=\"text-align: right;\">\n",
       "      <th></th>\n",
       "      <th>Quantity</th>\n",
       "      <th>Price</th>\n",
       "      <th>Customer ID</th>\n",
       "    </tr>\n",
       "  </thead>\n",
       "  <tbody>\n",
       "    <tr>\n",
       "      <td>count</td>\n",
       "      <td>525461.000000</td>\n",
       "      <td>525461.000000</td>\n",
       "      <td>417534.000000</td>\n",
       "    </tr>\n",
       "    <tr>\n",
       "      <td>mean</td>\n",
       "      <td>10.337667</td>\n",
       "      <td>4.688834</td>\n",
       "      <td>15360.645478</td>\n",
       "    </tr>\n",
       "    <tr>\n",
       "      <td>std</td>\n",
       "      <td>107.424110</td>\n",
       "      <td>146.126914</td>\n",
       "      <td>1680.811316</td>\n",
       "    </tr>\n",
       "    <tr>\n",
       "      <td>min</td>\n",
       "      <td>-9600.000000</td>\n",
       "      <td>-53594.360000</td>\n",
       "      <td>12346.000000</td>\n",
       "    </tr>\n",
       "    <tr>\n",
       "      <td>25%</td>\n",
       "      <td>1.000000</td>\n",
       "      <td>1.250000</td>\n",
       "      <td>13983.000000</td>\n",
       "    </tr>\n",
       "    <tr>\n",
       "      <td>50%</td>\n",
       "      <td>3.000000</td>\n",
       "      <td>2.100000</td>\n",
       "      <td>15311.000000</td>\n",
       "    </tr>\n",
       "    <tr>\n",
       "      <td>75%</td>\n",
       "      <td>10.000000</td>\n",
       "      <td>4.210000</td>\n",
       "      <td>16799.000000</td>\n",
       "    </tr>\n",
       "    <tr>\n",
       "      <td>max</td>\n",
       "      <td>19152.000000</td>\n",
       "      <td>25111.090000</td>\n",
       "      <td>18287.000000</td>\n",
       "    </tr>\n",
       "  </tbody>\n",
       "</table>\n",
       "</div>"
      ],
      "text/plain": [
       "            Quantity          Price    Customer ID\n",
       "count  525461.000000  525461.000000  417534.000000\n",
       "mean       10.337667       4.688834   15360.645478\n",
       "std       107.424110     146.126914    1680.811316\n",
       "min     -9600.000000  -53594.360000   12346.000000\n",
       "25%         1.000000       1.250000   13983.000000\n",
       "50%         3.000000       2.100000   15311.000000\n",
       "75%        10.000000       4.210000   16799.000000\n",
       "max     19152.000000   25111.090000   18287.000000"
      ]
     },
     "execution_count": 6,
     "metadata": {},
     "output_type": "execute_result"
    }
   ],
   "source": [
    "# the describe fuction will give high-level info about what the whole dataset looks like and helps with data cleaning\n",
    "df.describe()"
   ]
  },
  {
   "cell_type": "code",
   "execution_count": 10,
   "metadata": {},
   "outputs": [
    {
     "data": {
      "text/html": [
       "<div>\n",
       "<style scoped>\n",
       "    .dataframe tbody tr th:only-of-type {\n",
       "        vertical-align: middle;\n",
       "    }\n",
       "\n",
       "    .dataframe tbody tr th {\n",
       "        vertical-align: top;\n",
       "    }\n",
       "\n",
       "    .dataframe thead th {\n",
       "        text-align: right;\n",
       "    }\n",
       "</style>\n",
       "<table border=\"1\" class=\"dataframe\">\n",
       "  <thead>\n",
       "    <tr style=\"text-align: right;\">\n",
       "      <th></th>\n",
       "      <th>Invoice</th>\n",
       "      <th>StockCode</th>\n",
       "      <th>Description</th>\n",
       "      <th>Quantity</th>\n",
       "      <th>InvoiceDate</th>\n",
       "      <th>Price</th>\n",
       "      <th>Customer ID</th>\n",
       "      <th>Country</th>\n",
       "      <th>Cost</th>\n",
       "    </tr>\n",
       "  </thead>\n",
       "  <tbody>\n",
       "    <tr>\n",
       "      <td>0</td>\n",
       "      <td>489434</td>\n",
       "      <td>85048</td>\n",
       "      <td>15CM CHRISTMAS GLASS BALL 20 LIGHTS</td>\n",
       "      <td>12</td>\n",
       "      <td>2009-12-01 07:45:00</td>\n",
       "      <td>6.95</td>\n",
       "      <td>13085.0</td>\n",
       "      <td>United Kingdom</td>\n",
       "      <td>83.4</td>\n",
       "    </tr>\n",
       "    <tr>\n",
       "      <td>1</td>\n",
       "      <td>489434</td>\n",
       "      <td>79323P</td>\n",
       "      <td>PINK CHERRY LIGHTS</td>\n",
       "      <td>12</td>\n",
       "      <td>2009-12-01 07:45:00</td>\n",
       "      <td>6.75</td>\n",
       "      <td>13085.0</td>\n",
       "      <td>United Kingdom</td>\n",
       "      <td>81.0</td>\n",
       "    </tr>\n",
       "    <tr>\n",
       "      <td>2</td>\n",
       "      <td>489434</td>\n",
       "      <td>79323W</td>\n",
       "      <td>WHITE CHERRY LIGHTS</td>\n",
       "      <td>12</td>\n",
       "      <td>2009-12-01 07:45:00</td>\n",
       "      <td>6.75</td>\n",
       "      <td>13085.0</td>\n",
       "      <td>United Kingdom</td>\n",
       "      <td>81.0</td>\n",
       "    </tr>\n",
       "    <tr>\n",
       "      <td>3</td>\n",
       "      <td>489434</td>\n",
       "      <td>22041</td>\n",
       "      <td>RECORD FRAME 7\" SINGLE SIZE</td>\n",
       "      <td>48</td>\n",
       "      <td>2009-12-01 07:45:00</td>\n",
       "      <td>2.10</td>\n",
       "      <td>13085.0</td>\n",
       "      <td>United Kingdom</td>\n",
       "      <td>100.8</td>\n",
       "    </tr>\n",
       "    <tr>\n",
       "      <td>4</td>\n",
       "      <td>489434</td>\n",
       "      <td>21232</td>\n",
       "      <td>STRAWBERRY CERAMIC TRINKET BOX</td>\n",
       "      <td>24</td>\n",
       "      <td>2009-12-01 07:45:00</td>\n",
       "      <td>1.25</td>\n",
       "      <td>13085.0</td>\n",
       "      <td>United Kingdom</td>\n",
       "      <td>30.0</td>\n",
       "    </tr>\n",
       "  </tbody>\n",
       "</table>\n",
       "</div>"
      ],
      "text/plain": [
       "  Invoice StockCode                          Description  Quantity  \\\n",
       "0  489434     85048  15CM CHRISTMAS GLASS BALL 20 LIGHTS        12   \n",
       "1  489434    79323P                   PINK CHERRY LIGHTS        12   \n",
       "2  489434    79323W                  WHITE CHERRY LIGHTS        12   \n",
       "3  489434     22041         RECORD FRAME 7\" SINGLE SIZE         48   \n",
       "4  489434     21232       STRAWBERRY CERAMIC TRINKET BOX        24   \n",
       "\n",
       "          InvoiceDate  Price  Customer ID         Country   Cost  \n",
       "0 2009-12-01 07:45:00   6.95      13085.0  United Kingdom   83.4  \n",
       "1 2009-12-01 07:45:00   6.75      13085.0  United Kingdom   81.0  \n",
       "2 2009-12-01 07:45:00   6.75      13085.0  United Kingdom   81.0  \n",
       "3 2009-12-01 07:45:00   2.10      13085.0  United Kingdom  100.8  \n",
       "4 2009-12-01 07:45:00   1.25      13085.0  United Kingdom   30.0  "
      ]
     },
     "execution_count": 10,
     "metadata": {},
     "output_type": "execute_result"
    }
   ],
   "source": [
    "# get rid of receord that don't have a customer id\n",
    "df = df[pd.notnull(df['Customer ID'])]\n",
    "\n",
    "# get rid of all orders where the quantity is less than 0\n",
    "df = df.loc[df['Quantity'] > 0]\n",
    "\n",
    "# get rid of all orders where the price is  less than 0\n",
    "df = df.loc[df['Price'] > 0]\n",
    "\n",
    "# create a new column that gets the total cost of an order\n",
    "df['Cost'] = df['Quantity'] * df['Price']\n",
    "\n",
    "df.head()"
   ]
  },
  {
   "cell_type": "code",
   "execution_count": 13,
   "metadata": {},
   "outputs": [
    {
     "data": {
      "text/html": [
       "<div>\n",
       "<style scoped>\n",
       "    .dataframe tbody tr th:only-of-type {\n",
       "        vertical-align: middle;\n",
       "    }\n",
       "\n",
       "    .dataframe tbody tr th {\n",
       "        vertical-align: top;\n",
       "    }\n",
       "\n",
       "    .dataframe thead th {\n",
       "        text-align: right;\n",
       "    }\n",
       "</style>\n",
       "<table border=\"1\" class=\"dataframe\">\n",
       "  <thead>\n",
       "    <tr style=\"text-align: right;\">\n",
       "      <th></th>\n",
       "      <th>TotalSales</th>\n",
       "      <th>OrderCount</th>\n",
       "      <th>AvgOrder</th>\n",
       "    </tr>\n",
       "    <tr>\n",
       "      <th>Customer ID</th>\n",
       "      <th></th>\n",
       "      <th></th>\n",
       "      <th></th>\n",
       "    </tr>\n",
       "  </thead>\n",
       "  <tbody>\n",
       "    <tr>\n",
       "      <td>12346.0</td>\n",
       "      <td>372.86</td>\n",
       "      <td>11</td>\n",
       "      <td>33.896364</td>\n",
       "    </tr>\n",
       "    <tr>\n",
       "      <td>12347.0</td>\n",
       "      <td>1323.32</td>\n",
       "      <td>2</td>\n",
       "      <td>661.660000</td>\n",
       "    </tr>\n",
       "    <tr>\n",
       "      <td>12348.0</td>\n",
       "      <td>222.16</td>\n",
       "      <td>1</td>\n",
       "      <td>222.160000</td>\n",
       "    </tr>\n",
       "    <tr>\n",
       "      <td>12349.0</td>\n",
       "      <td>2671.14</td>\n",
       "      <td>3</td>\n",
       "      <td>890.380000</td>\n",
       "    </tr>\n",
       "    <tr>\n",
       "      <td>12351.0</td>\n",
       "      <td>300.93</td>\n",
       "      <td>1</td>\n",
       "      <td>300.930000</td>\n",
       "    </tr>\n",
       "  </tbody>\n",
       "</table>\n",
       "</div>"
      ],
      "text/plain": [
       "             TotalSales  OrderCount    AvgOrder\n",
       "Customer ID                                    \n",
       "12346.0          372.86          11   33.896364\n",
       "12347.0         1323.32           2  661.660000\n",
       "12348.0          222.16           1  222.160000\n",
       "12349.0         2671.14           3  890.380000\n",
       "12351.0          300.93           1  300.930000"
      ]
     },
     "execution_count": 13,
     "metadata": {},
     "output_type": "execute_result"
    }
   ],
   "source": [
    "# aggregate cost by customer id\n",
    "customer_df = df.groupby('Customer ID').agg({'Cost': sum, \n",
    "                                            'Invoice': lambda x: x.nunique()})\n",
    "\n",
    "# select the columns we want to use\n",
    "customer_df.columns = ['TotalSales', 'OrderCount'] \n",
    "\n",
    "# create a new column that looks at a customer's average order $\n",
    "customer_df['AvgOrder'] = customer_df['TotalSales'] / customer_df['OrderCount']\n",
    "\n",
    "# create a new data frame that looks at the data on a per-customer basis (instead of by order)\n",
    "customer_df.head()"
   ]
  },
  {
   "cell_type": "code",
   "execution_count": 14,
   "metadata": {},
   "outputs": [
    {
     "data": {
      "text/html": [
       "<div>\n",
       "<style scoped>\n",
       "    .dataframe tbody tr th:only-of-type {\n",
       "        vertical-align: middle;\n",
       "    }\n",
       "\n",
       "    .dataframe tbody tr th {\n",
       "        vertical-align: top;\n",
       "    }\n",
       "\n",
       "    .dataframe thead th {\n",
       "        text-align: right;\n",
       "    }\n",
       "</style>\n",
       "<table border=\"1\" class=\"dataframe\">\n",
       "  <thead>\n",
       "    <tr style=\"text-align: right;\">\n",
       "      <th></th>\n",
       "      <th>TotalSales</th>\n",
       "      <th>OrderCount</th>\n",
       "      <th>AvgOrder</th>\n",
       "    </tr>\n",
       "    <tr>\n",
       "      <th>Customer ID</th>\n",
       "      <th></th>\n",
       "      <th></th>\n",
       "      <th></th>\n",
       "    </tr>\n",
       "  </thead>\n",
       "  <tbody>\n",
       "    <tr>\n",
       "      <td>12346.0</td>\n",
       "      <td>-0.655067</td>\n",
       "      <td>1.463156</td>\n",
       "      <td>-1.696908</td>\n",
       "    </tr>\n",
       "    <tr>\n",
       "      <td>12347.0</td>\n",
       "      <td>0.614903</td>\n",
       "      <td>-0.591608</td>\n",
       "      <td>1.374797</td>\n",
       "    </tr>\n",
       "    <tr>\n",
       "      <td>12348.0</td>\n",
       "      <td>-1.152291</td>\n",
       "      <td>-1.731448</td>\n",
       "      <td>-0.512888</td>\n",
       "    </tr>\n",
       "    <tr>\n",
       "      <td>12349.0</td>\n",
       "      <td>1.205307</td>\n",
       "      <td>0.059040</td>\n",
       "      <td>1.541073</td>\n",
       "    </tr>\n",
       "    <tr>\n",
       "      <td>12351.0</td>\n",
       "      <td>-0.897654</td>\n",
       "      <td>-1.730645</td>\n",
       "      <td>0.100007</td>\n",
       "    </tr>\n",
       "    <tr>\n",
       "      <td>12352.0</td>\n",
       "      <td>-0.727361</td>\n",
       "      <td>-0.590805</td>\n",
       "      <td>-0.947457</td>\n",
       "    </tr>\n",
       "    <tr>\n",
       "      <td>12353.0</td>\n",
       "      <td>-0.821344</td>\n",
       "      <td>-1.729842</td>\n",
       "      <td>0.278333</td>\n",
       "    </tr>\n",
       "    <tr>\n",
       "      <td>12355.0</td>\n",
       "      <td>-0.381955</td>\n",
       "      <td>-1.729039</td>\n",
       "      <td>1.082406</td>\n",
       "    </tr>\n",
       "    <tr>\n",
       "      <td>12356.0</td>\n",
       "      <td>1.363551</td>\n",
       "      <td>0.059844</td>\n",
       "      <td>1.632646</td>\n",
       "    </tr>\n",
       "    <tr>\n",
       "      <td>12357.0</td>\n",
       "      <td>1.664777</td>\n",
       "      <td>-0.590002</td>\n",
       "      <td>1.726629</td>\n",
       "    </tr>\n",
       "  </tbody>\n",
       "</table>\n",
       "</div>"
      ],
      "text/plain": [
       "             TotalSales  OrderCount  AvgOrder\n",
       "Customer ID                                  \n",
       "12346.0       -0.655067    1.463156 -1.696908\n",
       "12347.0        0.614903   -0.591608  1.374797\n",
       "12348.0       -1.152291   -1.731448 -0.512888\n",
       "12349.0        1.205307    0.059040  1.541073\n",
       "12351.0       -0.897654   -1.730645  0.100007\n",
       "12352.0       -0.727361   -0.590805 -0.947457\n",
       "12353.0       -0.821344   -1.729842  0.278333\n",
       "12355.0       -0.381955   -1.729039  1.082406\n",
       "12356.0        1.363551    0.059844  1.632646\n",
       "12357.0        1.664777   -0.590002  1.726629"
      ]
     },
     "execution_count": 14,
     "metadata": {},
     "output_type": "execute_result"
    }
   ],
   "source": [
    "#order by customer id\n",
    "rank_df = customer_df.rank(method='first')\n",
    "\n",
    "#normalize the data in each column\n",
    "normalized_df = (rank_df - rank_df.mean()) / rank_df.std()\n",
    "\n",
    "#create a new datafame with the normalized data\n",
    "normalized_df.head(10)"
   ]
  },
  {
   "cell_type": "markdown",
   "metadata": {},
   "source": [
    "Now That the data is clean how do you know how many clusters (segments) are the right number of segments?\n",
    "there are a few ways to do this. Here I will show you two. The elbow method and the silhouette coefficient method. \n"
   ]
  },
  {
   "cell_type": "markdown",
   "metadata": {},
   "source": [
    "What is the elbow method? Wikipedia can explain better than I can :)\n",
    "\n",
    "The Elbow method is a heuristic method of interpretation and validation of consistency within cluster analysis designed to help finding the appropriate number of clusters in a dataset. It is often ambiguous and not very reliable, and hence other approaches for determining the number of clusters such as the Silhouette method are preferable.\n",
    "\n",
    "This method looks at the percentage of variance explained as a function of the number of clusters: One should choose a number of clusters so that adding another cluster doesn't give much better modeling of the data. More precisely, if one plots the percentage of variance explained by the clusters against the number of clusters, the first clusters will add much information (explain a lot of variance), but at some point the marginal gain will drop, giving an angle in the graph. The number of clusters is chosen at this point, hence the \"elbow criterion\". This \"elbow\" cannot always be unambiguously identified. Percentage of variance explained is the ratio of the between-group variance to the total variance, also known as an F-test. A slight variation of this method plots the curvature of the within group variance.\n",
    "\n",
    "Below after running the code you can see that the \"elbow\" appears at 4. You could also argue that the \"elbow\" is at 3 and at 6. This is why the eblow method can be seen as less reliable than other methods.\n"
   ]
  },
  {
   "cell_type": "code",
   "execution_count": 31,
   "metadata": {},
   "outputs": [
    {
     "data": {
      "image/png": "[encoded data removed]",
      "text/plain": [
       "<Figure size 432x288 with 1 Axes>"
      ]
     },
     "metadata": {
      "needs_background": "light"
     },
     "output_type": "display_data"
    }
   ],
   "source": [
    "# use the elbow method to determine the optimal number of segments\n",
    "from sklearn import cluster\n",
    "import numpy as np\n",
    "\n",
    "sse = []\n",
    "krange = list(range(2,11))\n",
    "X = normalized_df[['TotalSales','OrderCount','AvgOrder']].values\n",
    "for n in krange:\n",
    "    model = cluster.KMeans(n_clusters=n, random_state=3)\n",
    "    model.fit_predict(X)\n",
    "    cluster_assignments = model.labels_\n",
    "    centers = model.cluster_centers_\n",
    "    sse.append(np.sum((X - centers[cluster_assignments]) ** 2))\n",
    "\n",
    "plt.plot(krange, sse)\n",
    "plt.xlabel(\"$Optimal K$\")\n",
    "plt.ylabel(\"Sum of Squares\")\n",
    "plt.show()"
   ]
  },
  {
   "cell_type": "markdown",
   "metadata": {},
   "source": [
    "What is the silhouette coefficient? Again to Wikipedia!\n",
    "\n",
    "The silhouette value is a measure of how similar an object is to its own cluster (cohesion) compared to other clusters (separation). The silhouette ranges from −1 to +1, where a high value indicates that the object is well matched to its own cluster and poorly matched to neighboring clusters. If most objects have a high value, then the clustering configuration is appropriate. If many points have a low or negative value, then the clustering configuration may have too many or too few clusters.\n",
    "\n",
    "The silhouette can be calculated with any distance metric, such as the Euclidean distance or the Manhattan distance.\n",
    "\n",
    "In this example I've set variables 2 though 10 and you can see 2 segments (clusters) has the highest value according to the silhouette method. However 2 segments would make a pretty poor segmentation analysis from a business standpoint. The next highest is 4 which aligns with our findings with the elbow method above. "
   ]
  },
  {
   "cell_type": "code",
   "execution_count": 32,
   "metadata": {},
   "outputs": [
    {
     "name": "stdout",
     "output_type": "stream",
     "text": [
      "2 Segments: 0.435\n",
      "3 Segments: 0.410\n",
      "4 Segments: 0.414\n",
      "5 Segments: 0.380\n",
      "6 Segments: 0.389\n",
      "7 Segments: 0.390\n",
      "8 Segments: 0.381\n",
      "9 Segments: 0.372\n",
      "10 Segments: 0.378\n"
     ]
    }
   ],
   "source": [
    "# use the silhouette coefficient to determine the optimal number of segments\n",
    "from sklearn.metrics import silhouette_score\n",
    "\n",
    "for n_cluster in [2,3,4,5,6,7,8,9,10]:\n",
    "    kmeans = KMeans(n_clusters=n_cluster).fit(\n",
    "        normalized_df[['TotalSales', 'OrderCount', 'AvgOrder']])\n",
    "    \n",
    "    silhouette_avg = silhouette_score(\n",
    "        normalized_df[['TotalSales', 'OrderCount', 'AvgOrder']], \n",
    "        kmeans.labels_)\n",
    "    \n",
    "    print('%i Segments: %0.3f' % (n_cluster, silhouette_avg))"
   ]
  },
  {
   "cell_type": "code",
   "execution_count": 45,
   "metadata": {},
   "outputs": [],
   "source": [
    "#this is the actual machine learning part\n",
    "kmeans = KMeans(n_clusters=4).fit(normalized_df[['TotalSales', 'OrderCount', 'AvgOrder']])"
   ]
  },
  {
   "cell_type": "code",
   "execution_count": 46,
   "metadata": {},
   "outputs": [
    {
     "data": {
      "text/html": [
       "<div>\n",
       "<style scoped>\n",
       "    .dataframe tbody tr th:only-of-type {\n",
       "        vertical-align: middle;\n",
       "    }\n",
       "\n",
       "    .dataframe tbody tr th {\n",
       "        vertical-align: top;\n",
       "    }\n",
       "\n",
       "    .dataframe thead th {\n",
       "        text-align: right;\n",
       "    }\n",
       "</style>\n",
       "<table border=\"1\" class=\"dataframe\">\n",
       "  <thead>\n",
       "    <tr style=\"text-align: right;\">\n",
       "      <th></th>\n",
       "      <th>TotalSales</th>\n",
       "      <th>OrderCount</th>\n",
       "      <th>AvgOrder</th>\n",
       "      <th>Segment</th>\n",
       "    </tr>\n",
       "    <tr>\n",
       "      <th>Customer ID</th>\n",
       "      <th></th>\n",
       "      <th></th>\n",
       "      <th></th>\n",
       "      <th></th>\n",
       "    </tr>\n",
       "  </thead>\n",
       "  <tbody>\n",
       "    <tr>\n",
       "      <td>12346.0</td>\n",
       "      <td>-0.655067</td>\n",
       "      <td>1.463156</td>\n",
       "      <td>-1.696908</td>\n",
       "      <td>2</td>\n",
       "    </tr>\n",
       "    <tr>\n",
       "      <td>12347.0</td>\n",
       "      <td>0.614903</td>\n",
       "      <td>-0.591608</td>\n",
       "      <td>1.374797</td>\n",
       "      <td>0</td>\n",
       "    </tr>\n",
       "    <tr>\n",
       "      <td>12348.0</td>\n",
       "      <td>-1.152291</td>\n",
       "      <td>-1.731448</td>\n",
       "      <td>-0.512888</td>\n",
       "      <td>3</td>\n",
       "    </tr>\n",
       "    <tr>\n",
       "      <td>12349.0</td>\n",
       "      <td>1.205307</td>\n",
       "      <td>0.059040</td>\n",
       "      <td>1.541073</td>\n",
       "      <td>1</td>\n",
       "    </tr>\n",
       "    <tr>\n",
       "      <td>12351.0</td>\n",
       "      <td>-0.897654</td>\n",
       "      <td>-1.730645</td>\n",
       "      <td>0.100007</td>\n",
       "      <td>0</td>\n",
       "    </tr>\n",
       "  </tbody>\n",
       "</table>\n",
       "</div>"
      ],
      "text/plain": [
       "             TotalSales  OrderCount  AvgOrder  Segment\n",
       "Customer ID                                           \n",
       "12346.0       -0.655067    1.463156 -1.696908        2\n",
       "12347.0        0.614903   -0.591608  1.374797        0\n",
       "12348.0       -1.152291   -1.731448 -0.512888        3\n",
       "12349.0        1.205307    0.059040  1.541073        1\n",
       "12351.0       -0.897654   -1.730645  0.100007        0"
      ]
     },
     "execution_count": 46,
     "metadata": {},
     "output_type": "execute_result"
    }
   ],
   "source": [
    "# create a table that lables each cutomer by their segment\n",
    "FourSegdf = normalized_df[['TotalSales', 'OrderCount', 'AvgOrder']].copy(deep=True)\n",
    "FourSegdf['Segment'] = kmeans.labels_\n",
    "\n",
    "# print the table\n",
    "FourSegdf.head()"
   ]
  },
  {
   "cell_type": "code",
   "execution_count": 50,
   "metadata": {},
   "outputs": [
    {
     "data": {
      "image/png": "[encoded data removed]",
      "text/plain": [
       "<Figure size 432x288 with 1 Axes>"
      ]
     },
     "metadata": {
      "needs_background": "light"
     },
     "output_type": "display_data"
    }
   ],
   "source": [
    "# plot the 4 segments\n",
    "plt.scatter(\n",
    "    X[FourSegdf['Segment'] == 0, 0], X[FourSegdf['Segment'] == 0, 1],\n",
    "    s=5, c='thistle',\n",
    "    label='segment 1'\n",
    ")\n",
    "\n",
    "plt.scatter(\n",
    "    X[FourSegdf['Segment'] == 1, 0], X[FourSegdf['Segment'] == 1, 1],\n",
    "    s=5, c='pink',\n",
    "    label='segment 2'\n",
    ")\n",
    "\n",
    "plt.scatter(\n",
    "    X[FourSegdf['Segment'] == 2, 0], X[FourSegdf['Segment'] == 2, 1],\n",
    "    s=5, c='powderblue',\n",
    "    label='segment 3'\n",
    ")\n",
    "\n",
    "plt.scatter(\n",
    "    X[FourSegdf['Segment'] == 3, 0], X[FourSegdf['Segment'] == 3, 1],\n",
    "    s=5, c='honeydew',\n",
    "    label='segment 4'\n",
    ")\n",
    "\n",
    "# plot the centroids\n",
    "plt.scatter(\n",
    "    kmeans.cluster_centers_[:, 0], kmeans.cluster_centers_[:, 1],\n",
    "    s=10, c='darkslategrey',\n",
    "    label='centroids'\n",
    ")\n",
    "plt.legend(scatterpoints=1)\n",
    "plt.grid()\n",
    "plt.show()"
   ]
  },
  {
   "cell_type": "code",
   "execution_count": 23,
   "metadata": {},
   "outputs": [
    {
     "data": {
      "text/html": [
       "<div>\n",
       "<style scoped>\n",
       "    .dataframe tbody tr th:only-of-type {\n",
       "        vertical-align: middle;\n",
       "    }\n",
       "\n",
       "    .dataframe tbody tr th {\n",
       "        vertical-align: top;\n",
       "    }\n",
       "\n",
       "    .dataframe thead th {\n",
       "        text-align: right;\n",
       "    }\n",
       "</style>\n",
       "<table border=\"1\" class=\"dataframe\">\n",
       "  <thead>\n",
       "    <tr style=\"text-align: right;\">\n",
       "      <th></th>\n",
       "      <th>TotalSales</th>\n",
       "      <th>OrderCount</th>\n",
       "      <th>AvgOrder</th>\n",
       "    </tr>\n",
       "  </thead>\n",
       "  <tbody>\n",
       "    <tr>\n",
       "      <td>0</td>\n",
       "      <td>-0.214201</td>\n",
       "      <td>-0.858726</td>\n",
       "      <td>0.743282</td>\n",
       "    </tr>\n",
       "    <tr>\n",
       "      <td>1</td>\n",
       "      <td>1.203796</td>\n",
       "      <td>0.958073</td>\n",
       "      <td>0.961522</td>\n",
       "    </tr>\n",
       "    <tr>\n",
       "      <td>2</td>\n",
       "      <td>0.286302</td>\n",
       "      <td>0.750358</td>\n",
       "      <td>-0.581841</td>\n",
       "    </tr>\n",
       "    <tr>\n",
       "      <td>3</td>\n",
       "      <td>-1.225804</td>\n",
       "      <td>-0.836875</td>\n",
       "      <td>-1.062284</td>\n",
       "    </tr>\n",
       "  </tbody>\n",
       "</table>\n",
       "</div>"
      ],
      "text/plain": [
       "   TotalSales  OrderCount  AvgOrder\n",
       "0   -0.214201   -0.858726  0.743282\n",
       "1    1.203796    0.958073  0.961522\n",
       "2    0.286302    0.750358 -0.581841\n",
       "3   -1.225804   -0.836875 -1.062284"
      ]
     },
     "execution_count": 23,
     "metadata": {},
     "output_type": "execute_result"
    }
   ],
   "source": [
    "# create a table that looks at the data by segment (rather than by customer) to see how each group differs\n",
    "# remember these numbers have been normalized so they don't mean much in \"real\" terms but can be compared\n",
    "seg1 = kmeans.cluster_centers_[0]\n",
    "seg2 = kmeans.cluster_centers_[1]\n",
    "seg3 = kmeans.cluster_centers_[2]\n",
    "seg4 = kmeans.cluster_centers_[3]\n",
    "\n",
    "data = [seg1, seg2, seg3, seg4]\n",
    "SegCenterdf = pd.DataFrame(data)\n",
    "\n",
    "SegCenterdf.columns = FourSegdf.columns[0:3]\n",
    "SegCenterdf"
   ]
  },
  {
   "cell_type": "code",
   "execution_count": 54,
   "metadata": {},
   "outputs": [
    {
     "data": {
      "image/png": "[encoded data removed]",
      "text/plain": [
       "<Figure size 432x288 with 1 Axes>"
      ]
     },
     "metadata": {
      "needs_background": "light"
     },
     "output_type": "display_data"
    }
   ],
   "source": [
    "plt.scatter(\n",
    "    FourSegdf.loc[FourSegdf['Segment'] == 0]['OrderCount'], \n",
    "    FourSegdf.loc[FourSegdf['Segment'] == 0]['TotalSales'],\n",
    "    s=5, c='thistle')\n",
    "\n",
    "plt.scatter(\n",
    "    FourSegdf.loc[FourSegdf['Segment'] == 1]['OrderCount'], \n",
    "    FourSegdf.loc[FourSegdf['Segment'] == 1]['TotalSales'],\n",
    "    s=5, c='pink')\n",
    "\n",
    "plt.scatter(\n",
    "    FourSegdf.loc[FourSegdf['Segment'] == 2]['OrderCount'], \n",
    "    FourSegdf.loc[FourSegdf['Segment'] == 2]['TotalSales'],\n",
    "    s=5, c='powderblue')\n",
    "\n",
    "plt.scatter(\n",
    "    FourSegdf.loc[FourSegdf['Segment'] == 3]['OrderCount'], \n",
    "    FourSegdf.loc[FourSegdf['Segment'] == 3]['TotalSales'],\n",
    "    s=5, c='honeydew')\n",
    "\n",
    "plt.title('TotalSales vs. OrderCount Segments')\n",
    "plt.xlabel('Order Count')\n",
    "plt.ylabel('Total Sales')\n",
    "\n",
    "plt.grid()\n",
    "plt.show()"
   ]
  },
  {
   "cell_type": "markdown",
   "metadata": {},
   "source": [
    "Here you can easily see the high value customers are segment 2 in pink (high spend and high sales numbers) vs the low value customers are segment 4 in mint green (low spend and low sales)."
   ]
  },
  {
   "cell_type": "code",
   "execution_count": 55,
   "metadata": {},
   "outputs": [
    {
     "data": {
      "image/png": "[encoded data removed]",
      "text/plain": [
       "<Figure size 432x288 with 1 Axes>"
      ]
     },
     "metadata": {
      "needs_background": "light"
     },
     "output_type": "display_data"
    }
   ],
   "source": [
    "plt.scatter(\n",
    "    FourSegdf.loc[FourSegdf['Segment'] == 0]['OrderCount'], \n",
    "    FourSegdf.loc[FourSegdf['Segment'] == 0]['AvgOrder'],\n",
    "    s=5, c='thistle')\n",
    "\n",
    "plt.scatter(\n",
    "    FourSegdf.loc[FourSegdf['Segment'] == 1]['OrderCount'], \n",
    "    FourSegdf.loc[FourSegdf['Segment'] == 1]['AvgOrder'],\n",
    "    s=5, c='pink')\n",
    "\n",
    "plt.scatter(\n",
    "    FourSegdf.loc[FourSegdf['Segment'] == 2]['OrderCount'], \n",
    "    FourSegdf.loc[FourSegdf['Segment'] == 2]['AvgOrder'],\n",
    "    s=5, c='powderblue')\n",
    "\n",
    "plt.scatter(\n",
    "    FourSegdf.loc[FourSegdf['Segment'] == 3]['OrderCount'], \n",
    "    FourSegdf.loc[FourSegdf['Segment'] == 3]['AvgOrder'],\n",
    "    s=5, c='honeydew')\n",
    "\n",
    "plt.title('AvgOrder vs. OrderCount Segment')\n",
    "plt.xlabel('Order Count')\n",
    "plt.ylabel('Avg Order')\n",
    "\n",
    "plt.grid()\n",
    "plt.show()"
   ]
  },
  {
   "cell_type": "markdown",
   "metadata": {},
   "source": [
    "explain plot"
   ]
  },
  {
   "cell_type": "markdown",
   "metadata": {},
   "source": [
    "In this visalization we are looking at order value vs order count. So again you can see that the customers with a low number of orders and a low cost of orders is mostly in segment 4 the mint green. On the other hand the high number and high cost of orders is in pink. Another thing to note is that the purple group segment 1 is a high potential group. They order few items but they are high value items."
   ]
  },
  {
   "cell_type": "code",
   "execution_count": 56,
   "metadata": {},
   "outputs": [
    {
     "data": {
      "text/html": [
       "<div>\n",
       "<style scoped>\n",
       "    .dataframe tbody tr th:only-of-type {\n",
       "        vertical-align: middle;\n",
       "    }\n",
       "\n",
       "    .dataframe tbody tr th {\n",
       "        vertical-align: top;\n",
       "    }\n",
       "\n",
       "    .dataframe thead th {\n",
       "        text-align: right;\n",
       "    }\n",
       "</style>\n",
       "<table border=\"1\" class=\"dataframe\">\n",
       "  <thead>\n",
       "    <tr style=\"text-align: right;\">\n",
       "      <th></th>\n",
       "      <th>StockCode</th>\n",
       "    </tr>\n",
       "    <tr>\n",
       "      <th>Description</th>\n",
       "      <th></th>\n",
       "    </tr>\n",
       "  </thead>\n",
       "  <tbody>\n",
       "    <tr>\n",
       "      <td>WHITE HANGING HEART T-LIGHT HOLDER</td>\n",
       "      <td>1851</td>\n",
       "    </tr>\n",
       "    <tr>\n",
       "      <td>REGENCY CAKESTAND 3 TIER</td>\n",
       "      <td>1088</td>\n",
       "    </tr>\n",
       "    <tr>\n",
       "      <td>STRAWBERRY CERAMIC TRINKET BOX</td>\n",
       "      <td>852</td>\n",
       "    </tr>\n",
       "    <tr>\n",
       "      <td>ASSORTED COLOUR BIRD ORNAMENT</td>\n",
       "      <td>839</td>\n",
       "    </tr>\n",
       "    <tr>\n",
       "      <td>PACK OF 72 RETRO SPOT CAKE CASES</td>\n",
       "      <td>827</td>\n",
       "    </tr>\n",
       "  </tbody>\n",
       "</table>\n",
       "</div>"
      ],
      "text/plain": [
       "                                    StockCode\n",
       "Description                                  \n",
       "WHITE HANGING HEART T-LIGHT HOLDER       1851\n",
       "REGENCY CAKESTAND 3 TIER                 1088\n",
       "STRAWBERRY CERAMIC TRINKET BOX            852\n",
       "ASSORTED COLOUR BIRD ORNAMENT             839\n",
       "PACK OF 72 RETRO SPOT CAKE CASES          827"
      ]
     },
     "execution_count": 56,
     "metadata": {},
     "output_type": "execute_result"
    }
   ],
   "source": [
    "# for segment 2 look at what items they are ordering the most of\n",
    "HVSeg = FourSegdf.loc[FourSegdf['Segment'] == 1]\n",
    "\n",
    "pd.DataFrame(df.loc[df['Customer ID'].isin(HVSeg.index)].groupby(\n",
    "    'Description').count()['StockCode'].sort_values(ascending=False).head())"
   ]
  },
  {
   "cell_type": "code",
   "execution_count": 57,
   "metadata": {},
   "outputs": [
    {
     "data": {
      "text/html": [
       "<div>\n",
       "<style scoped>\n",
       "    .dataframe tbody tr th:only-of-type {\n",
       "        vertical-align: middle;\n",
       "    }\n",
       "\n",
       "    .dataframe tbody tr th {\n",
       "        vertical-align: top;\n",
       "    }\n",
       "\n",
       "    .dataframe thead th {\n",
       "        text-align: right;\n",
       "    }\n",
       "</style>\n",
       "<table border=\"1\" class=\"dataframe\">\n",
       "  <thead>\n",
       "    <tr style=\"text-align: right;\">\n",
       "      <th></th>\n",
       "      <th>StockCode</th>\n",
       "    </tr>\n",
       "    <tr>\n",
       "      <th>Description</th>\n",
       "      <th></th>\n",
       "    </tr>\n",
       "  </thead>\n",
       "  <tbody>\n",
       "    <tr>\n",
       "      <td>WHITE HANGING HEART T-LIGHT HOLDER</td>\n",
       "      <td>183</td>\n",
       "    </tr>\n",
       "    <tr>\n",
       "      <td>REX CASH+CARRY JUMBO SHOPPER</td>\n",
       "      <td>154</td>\n",
       "    </tr>\n",
       "    <tr>\n",
       "      <td>HEART OF WICKER LARGE</td>\n",
       "      <td>79</td>\n",
       "    </tr>\n",
       "    <tr>\n",
       "      <td>ASSORTED COLOUR BIRD ORNAMENT</td>\n",
       "      <td>72</td>\n",
       "    </tr>\n",
       "    <tr>\n",
       "      <td>REGENCY CAKESTAND 3 TIER</td>\n",
       "      <td>70</td>\n",
       "    </tr>\n",
       "  </tbody>\n",
       "</table>\n",
       "</div>"
      ],
      "text/plain": [
       "                                    StockCode\n",
       "Description                                  \n",
       "WHITE HANGING HEART T-LIGHT HOLDER        183\n",
       "REX CASH+CARRY JUMBO SHOPPER              154\n",
       "HEART OF WICKER LARGE                      79\n",
       "ASSORTED COLOUR BIRD ORNAMENT              72\n",
       "REGENCY CAKESTAND 3 TIER                   70"
      ]
     },
     "execution_count": 57,
     "metadata": {},
     "output_type": "execute_result"
    }
   ],
   "source": [
    "# for segment 4 look at what items they are ording the most of\n",
    "LVSeg = FourSegdf.loc[FourSegdf['Segment'] == 3]\n",
    "\n",
    "pd.DataFrame(df.loc[df['Customer ID'].isin(LVSeg.index)].groupby(\n",
    "    'Description').count()['StockCode'].sort_values(ascending=False).head())"
   ]
  },
  {
   "cell_type": "markdown",
   "metadata": {},
   "source": [
    "This kind of analysis, using historical purchases, can be used on nearly any kind of customer data. You can use this to better understand your customer needs and also layer in psychographic and deomographic to get a better sense of what your customers are like. Are they busy soccer parents, large corporations, financial businesses, small-town mom and pop manufacturers or millennials with kids."
   ]
  },
  {
   "cell_type": "markdown",
   "metadata": {},
   "source": [
    "## Contact Me"
   ]
  },
  {
   "cell_type": "markdown",
   "metadata": {},
   "source": [
    "GitHub: AshleyMBA"
   ]
  },
  {
   "cell_type": "markdown",
   "metadata": {},
   "source": [
    "Twitter: @ashleyMBA_"
   ]
  },
  {
   "cell_type": "markdown",
   "metadata": {},
   "source": [
    "Website: Ashleymba.com"
   ]
  }
 ],
 "metadata": {
  "kernelspec": {
   "display_name": "Python 3",
   "language": "python",
   "name": "python3"
  },
  "language_info": {
   "codemirror_mode": {
    "name": "ipython",
    "version": 3
   },
   "file_extension": ".py",
   "mimetype": "text/x-python",
   "name": "python",
   "nbconvert_exporter": "python",
   "pygments_lexer": "ipython3",
   "version": "3.7.4"
  }
 },
 "nbformat": 4,
 "nbformat_minor": 2
}
